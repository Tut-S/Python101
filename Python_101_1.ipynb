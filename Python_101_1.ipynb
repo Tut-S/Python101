{
 "cells": [
  {
   "cell_type": "markdown",
   "metadata": {},
   "source": [
    "Python 101\n",
    "Dette er et obligatorisk og individuelt øvingsopplegg for å lærer basisen i Python. \n",
    "Vi skal bruke Visual Studio Code og GitHub Classroom.\n",
    "\n",
    "Som støtte kan du bruke: https://www.w3schools.com/python/ \n",
    "\n",
    "____________________________________________________________________________\n"
   ]
  },
  {
   "cell_type": "markdown",
   "metadata": {},
   "source": [
    "PRINT\n",
    "\n",
    "Hvis vi skal skrive en kommentar i koden, så bruker vi #. Det som kommer etter # blir ikke kjørt som kode.\n",
    "\n",
    "For å få vist noe på skjermen så bruker vi funksjonen print().\n",
    "Tallverdier kan vi printe ved å sette tallene inn i parantesene.\n",
    "Bokstaver og tegn må ha enten ' eller \" før og etter.\n",
    "\n",
    "Eksempel:\n",
    "\n",
    "print(5)\n",
    "\n",
    "print('fem')\n",
    "\n",
    "print(\"seks\")\n",
    "\n",
    "I koderuten under skal du printe navnet ditt og alderen din.\n",
    "\n"
   ]
  },
  {
   "cell_type": "code",
   "execution_count": null,
   "metadata": {},
   "outputs": [],
   "source": [
    "#Dette er en kommentar. Skriv inn koden din under: altså navn og alder."
   ]
  },
  {
   "cell_type": "markdown",
   "metadata": {},
   "source": [
    "____________________________________________________________________________"
   ]
  },
  {
   "cell_type": "markdown",
   "metadata": {},
   "source": [
    "TALLVARIABLER\n",
    "I de første oppgavene så skal du lære å lage variabler. En variabel kan inneholde verdi(tall) eller tegn.\n",
    "\n",
    "Først skal vi se på variabler som tallverdier. Det finnes to typer: heltall som vi kaller 'integer' som forkortes med 'int', og desimaltall som vi kaller 'float'.\n",
    "\n",
    "Eksempel på heltall:\n",
    "a=2\n",
    "\n",
    "Eksempel på desimaltall:\n",
    "b=3.4\n",
    "\n",
    "OBS!!! Vi brukes punktum i desimaltall. Komma blir brukt for å skille mellom ulike variabler og liste de opp (f.eks. print(a, b))\n",
    "\n",
    "Lag en integer variabel og en float variabel, forøk å printe de hver for seg, sammen ved hjelp av komma.\n",
    "\n",
    "Undersøk hva som skjer hvis vi bytter ut kommaet med regnetegnene (+,-,/,*) og print de ut."
   ]
  },
  {
   "cell_type": "code",
   "execution_count": 7,
   "metadata": {},
   "outputs": [],
   "source": [
    "#Under her skal dere lage to variabler - en integer og en float\n",
    "\n",
    "\n",
    "#Under her skal dere printe variablene hver for seg og sammen ved hjelp av komma\n",
    "\n",
    "\n",
    "\n",
    "#Under her skal dere gjøre det samme som med kommaet, men bytte kommaet med regnetegnene.\n",
    "\n",
    "\n",
    "\n"
   ]
  }
 ],
 "metadata": {
  "interpreter": {
   "hash": "de1e4270b528f24397686aa90dca311ac37d399e5bbe0f6cdd53792f581bee84"
  },
  "kernelspec": {
   "display_name": "Python 3.9.13 64-bit (windows store)",
   "language": "python",
   "name": "python3"
  },
  "language_info": {
   "codemirror_mode": {
    "name": "ipython",
    "version": 3
   },
   "file_extension": ".py",
   "mimetype": "text/x-python",
   "name": "python",
   "nbconvert_exporter": "python",
   "pygments_lexer": "ipython3",
   "version": "3.9.13"
  },
  "orig_nbformat": 4
 },
 "nbformat": 4,
 "nbformat_minor": 2
}
